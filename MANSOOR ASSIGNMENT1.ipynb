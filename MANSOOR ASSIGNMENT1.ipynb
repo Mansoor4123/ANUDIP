{
 "cells": [
  {
   "cell_type": "code",
   "execution_count": 1,
   "id": "a08776f9-f461-4844-a6f8-b55560036e15",
   "metadata": {},
   "outputs": [
    {
     "name": "stdin",
     "output_type": "stream",
     "text": [
      "Enter the first number:  10\n",
      "Enter the second number:  20\n"
     ]
    },
    {
     "name": "stdout",
     "output_type": "stream",
     "text": [
      "Multiplication of 2 numbers is : 200.0\n",
      "Sum of two numbers is : 30.0\n"
     ]
    }
   ],
   "source": [
    "#1.Calculate the multiplication and sum of two numbers \n",
    "\n",
    "num1 = float(input(\"Enter the first number: \"))\n",
    "num2 = float(input(\"Enter the second number: \"))\n",
    "multiplication = num1 * num2\n",
    "summation = num1 + num2\n",
    "print(\"Multiplication of 2 numbers is :\",multiplication)\n",
    "print(\"Sum of two numbers is :\",summation)"
   ]
  },
  {
   "cell_type": "code",
   "execution_count": 2,
   "id": "0e582cf6-b95d-4341-891d-b37b801149dd",
   "metadata": {},
   "outputs": [
    {
     "name": "stdout",
     "output_type": "stream",
     "text": [
      "10\n"
     ]
    }
   ],
   "source": [
    "#2.Declare two variables and print that which variable is largest one using a ternary operator:\n",
    "\n",
    "a = 5\n",
    "b = 10\n",
    "print(a if a > b else b)\n"
   ]
  },
  {
   "cell_type": "code",
   "execution_count": 3,
   "id": "baaefc88-a6bf-4e03-9204-2a48b7bc6a1c",
   "metadata": {},
   "outputs": [
    {
     "name": "stdin",
     "output_type": "stream",
     "text": [
      "Enter your name:  MANSOOR\n",
      "Enter your age:  21\n",
      "Enter your city:  BENGALURU\n"
     ]
    },
    {
     "name": "stdout",
     "output_type": "stream",
     "text": [
      "Name: MANSOOR, Age: 21, City: BENGALURU\n"
     ]
    }
   ],
   "source": [
    "#3.Taking input from the user (name, age, and city) and print it in a formatted string:\n",
    "\n",
    "name = input(\"Enter your name: \")\n",
    "age = input(\"Enter your age: \")\n",
    "city = input(\"Enter your city: \")\n",
    "\n",
    "print(f\"Name: {name}, Age: {age}, City: {city}\")"
   ]
  },
  {
   "cell_type": "code",
   "execution_count": 4,
   "id": "ae5e51f3-51fe-4fd7-b93a-939ad4557be4",
   "metadata": {},
   "outputs": [
    {
     "name": "stdin",
     "output_type": "stream",
     "text": [
      "Enter the first side of the triangle:  3.0\n",
      "Enter the second side of the triangle:  3.0\n",
      "Enter the third side of the triangle:  4.0\n"
     ]
    },
    {
     "name": "stdout",
     "output_type": "stream",
     "text": [
      "The area of the triangle is: 4.47213595499958\n"
     ]
    }
   ],
   "source": [
    "#4.Python program to find the area of a triangle whose sides are given\n",
    "\n",
    "import math\n",
    "a = float(input(\"Enter the first side of the triangle: \"))\n",
    "b = float(input(\"Enter the second side of the triangle: \"))\n",
    "c = float(input(\"Enter the third side of the triangle: \"))\n",
    "\n",
    "s = (a + b + c) / 2 \n",
    "area = math.sqrt(s * (s - a) * (s - b) * (s - c))\n",
    "\n",
    "print(f\"The area of the triangle is: {area}\")"
   ]
  },
  {
   "cell_type": "code",
   "execution_count": 7,
   "id": "a489c89a-c952-4534-a943-24603234e7d7",
   "metadata": {},
   "outputs": [
    {
     "name": "stdin",
     "output_type": "stream",
     "text": [
      "Enter a number:  1\n"
     ]
    },
    {
     "name": "stdout",
     "output_type": "stream",
     "text": [
      "1 is an odd number\n"
     ]
    }
   ],
   "source": [
    "#5.Write a Python program to check whether a number is even or odd\n",
    "\n",
    "num = int(input(\"Enter a number: \"))\n",
    "if num % 2 == 0:\n",
    "    print(f\"{num } is an even number\")\n",
    "else:\n",
    "    print(f\"{num } is an odd number\")"
   ]
  },
  {
   "cell_type": "code",
   "execution_count": 8,
   "id": "6438d871-b596-4f5b-9ba6-f89a3575454d",
   "metadata": {},
   "outputs": [
    {
     "name": "stdin",
     "output_type": "stream",
     "text": [
      "Enter a number:  2\n"
     ]
    },
    {
     "name": "stdout",
     "output_type": "stream",
     "text": [
      "The square of 2.0 is 4.0\n",
      "The cube of 2.0 is 8.0\n"
     ]
    }
   ],
   "source": [
    "#6.Find the square and cube of a given number\n",
    "\n",
    "num = float(input(\"Enter a number: \"))\n",
    "\n",
    "square = num ** 2\n",
    "cube = num ** 3\n",
    "\n",
    "print(f\"The square of {num} is {square}\")\n",
    "print(f\"The cube of {num} is {cube}\")"
   ]
  },
  {
   "cell_type": "code",
   "execution_count": null,
   "id": "5aa46c2c-e7ac-479e-80e1-3d00cf98c8a1",
   "metadata": {},
   "outputs": [],
   "source": []
  }
 ],
 "metadata": {
  "kernelspec": {
   "display_name": "Python 3 (ipykernel)",
   "language": "python",
   "name": "python3"
  },
  "language_info": {
   "codemirror_mode": {
    "name": "ipython",
    "version": 3
   },
   "file_extension": ".py",
   "mimetype": "text/x-python",
   "name": "python",
   "nbconvert_exporter": "python",
   "pygments_lexer": "ipython3",
   "version": "3.11.7"
  }
 },
 "nbformat": 4,
 "nbformat_minor": 5
}
