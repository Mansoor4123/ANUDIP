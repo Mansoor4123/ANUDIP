{
 "cells": [
  {
   "cell_type": "code",
   "execution_count": 6,
   "id": "4d8b81c2-3351-46f9-a4fb-1826aacd4bd9",
   "metadata": {},
   "outputs": [
    {
     "name": "stdout",
     "output_type": "stream",
     "text": [
      "True\n",
      "False\n"
     ]
    }
   ],
   "source": [
    "#1.Write a function is_palindrome(s) that returns True if the input string s is a palindrome (reads the same forward and backward) and False otherwise\n",
    "\n",
    "def is_palindrome(s):\n",
    "\n",
    "   return s == s[::-1]\n",
    "print(is_palindrome(\"MADAM\"))\n",
    "print(is_palindrome(\"MANSOOR\"))"
   ]
  },
  {
   "cell_type": "code",
   "execution_count": 7,
   "id": "979093e1-f754-4e6f-af46-5e055f474a1b",
   "metadata": {},
   "outputs": [
    {
     "name": "stdout",
     "output_type": "stream",
     "text": [
      "25\n"
     ]
    }
   ],
   "source": [
    "#2.Write a function find_largest(lst) that takes a list of numbers and returns the largest number.\n",
    "numbers = [10, 20, 5, 8, 25, 3]\n",
    "\n",
    "def find_largest(lst):\n",
    "    return max(lst)\n",
    "numbers = [10, 20, 5, 8, 25, 3]\n",
    "print(find_largest(numbers))\n"
   ]
  },
  {
   "cell_type": "code",
   "execution_count": 9,
   "id": "83214478-8bfd-42b3-80c1-929deb6b8943",
   "metadata": {},
   "outputs": [
    {
     "name": "stdout",
     "output_type": "stream",
     "text": [
      "3\n",
      "1\n",
      "6\n"
     ]
    }
   ],
   "source": [
    "#3.Write a function count_vowels(s) that returns the number of vowels (a, e, i, o, u) in the given string.\n",
    "def count_vowels(s):\n",
    "    vowels = \"aeiouAEIOU\"\n",
    "    return sum(1 for char in s if char in vowels)\n",
    "string1 = \"Hello World\"\n",
    "print(count_vowels(string1))\n",
    "string2 = \"Python\"\n",
    "print(count_vowels(string2))\n",
    "string3 = \"Beautiful Day\"\n",
    "print(count_vowels(string3))\n",
    "\n"
   ]
  },
  {
   "cell_type": "code",
   "execution_count": null,
   "id": "ce545bff-16f9-4eb7-a295-c6fa3a607c0f",
   "metadata": {},
   "outputs": [],
   "source": []
  }
 ],
 "metadata": {
  "kernelspec": {
   "display_name": "Python 3 (ipykernel)",
   "language": "python",
   "name": "python3"
  },
  "language_info": {
   "codemirror_mode": {
    "name": "ipython",
    "version": 3
   },
   "file_extension": ".py",
   "mimetype": "text/x-python",
   "name": "python",
   "nbconvert_exporter": "python",
   "pygments_lexer": "ipython3",
   "version": "3.11.7"
  }
 },
 "nbformat": 4,
 "nbformat_minor": 5
}
